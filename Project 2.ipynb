{
 "cells": [
  {
   "cell_type": "code",
   "execution_count": 1,
   "metadata": {},
   "outputs": [],
   "source": [
    "import pandas as pd\n",
    "from sqlalchemy import create_engine"
   ]
  },
  {
   "cell_type": "markdown",
   "metadata": {},
   "source": [
    "## Data Collection"
   ]
  },
  {
   "cell_type": "code",
   "execution_count": 2,
   "metadata": {},
   "outputs": [],
   "source": [
    "#Import TEDS-A 2014 Data\n",
    "teds2014_csv = \"Data/TEDS-A/TEDSA_2014.csv\"\n",
    "tedsa2014 = pd.read_csv(teds2014_csv, encoding='ISO-8859-1')"
   ]
  },
  {
   "cell_type": "code",
   "execution_count": 3,
   "metadata": {},
   "outputs": [],
   "source": [
    "#Import TEDS-A 2015 Data\n",
    "teds2015_csv = \"Data/TEDS-A/TEDSA_2015.csv\"\n",
    "tedsa2015 = pd.read_csv(teds2015_csv, encoding='ISO-8859-1')"
   ]
  },
  {
   "cell_type": "code",
   "execution_count": 4,
   "metadata": {},
   "outputs": [],
   "source": [
    "#Import TEDS-A 2016 Data\n",
    "teds2016_csv = \"Data/TEDS-A/TEDSA_2016.csv\"\n",
    "tedsa2016 = pd.read_csv(teds2016_csv, encoding='ISO-8859-1')"
   ]
  },
  {
   "cell_type": "code",
   "execution_count": 5,
   "metadata": {},
   "outputs": [],
   "source": [
    "#Import TEDS-A 2017 Data\n",
    "teds2017_csv = \"Data/TEDS-A/TEDSA_2017.csv\"\n",
    "tedsa2017 = pd.read_csv(teds2017_csv, encoding='ISO-8859-1')"
   ]
  },
  {
   "cell_type": "code",
   "execution_count": 6,
   "metadata": {},
   "outputs": [],
   "source": [
    "#Import TEDS-A 2018 Data\n",
    "teds2018_csv = \"Data/TEDS-A/TEDSA_2018.csv\"\n",
    "tedsa2018 = pd.read_csv(teds2018_csv, encoding='ISO-8859-1')"
   ]
  },
  {
   "cell_type": "markdown",
   "metadata": {},
   "source": [
    "## Data Cleaning"
   ]
  },
  {
   "cell_type": "markdown",
   "metadata": {},
   "source": [
    "#### 2014 TEDSA Data"
   ]
  },
  {
   "cell_type": "code",
   "execution_count": 55,
   "metadata": {
    "scrolled": true
   },
   "outputs": [],
   "source": [
    "#Remove Extraneous Columns\n",
    "data_2014 = tedsa2014[['STFIPS', 'YEAR', 'SUB1', 'AGE', 'GENDER', 'RACE']]"
   ]
  },
  {
   "cell_type": "code",
   "execution_count": 56,
   "metadata": {},
   "outputs": [],
   "source": [
    "#Rename Column\n",
    "data_2014 = data_2014.rename(columns = {'STFIPS' : 'STATE','GENDER' : 'SEX'})"
   ]
  },
  {
   "cell_type": "code",
   "execution_count": 57,
   "metadata": {},
   "outputs": [],
   "source": [
    "#Remove Rows w/o an Opioid as Primary Substance\n",
    "OUD_2014 = data_2014.loc[(data_2014['SUB1'] == 5) | (data_2014['SUB1'] == 6) | (data_2014['SUB1'] == 7)]\n",
    "OUD_2014.reset_index(inplace = True, drop = True)"
   ]
  },
  {
   "cell_type": "code",
   "execution_count": 58,
   "metadata": {},
   "outputs": [],
   "source": [
    "#Recoding Census State FIPS Code to State Abbreviation\n",
    "OUD_2014 = OUD_2014.replace({'STATE':{1:'AL', 2:'AK', 4:'AZ', 5:'AR', 6:'CA', 8:'CO', 9:'CT', 10:'DE', 11:'DC', 12:'FL',\n",
    "                                      13:'GA', 15:'HI', 16:'ID', 17:'IL', 18:'IN', 19:'IA', 20:'KS', 21:'KY', 22:'LA', 23:'ME',\n",
    "                                      24:'MD', 25:'MA', 26:'MI', 27:'MN', 28:'MS', 29:'MO', 30:'MT', 31:'NE', 32:'NV', 33:'NH',\n",
    "                                      34:'NJ', 35:'NM', 36:'NY', 37:'NC', 38:'ND', 39:'OH', 40:'OK', 41:'OR', 42:'PA', 44:'RI',\n",
    "                                      46:'SD', 47:'TN', 48:'TX', 49:'UT', 50:'VT', 51:'VA', 53:'WA', 54:'WV', 55:'WI', 56:'WY',\n",
    "                                      72:'PR'}})"
   ]
  },
  {
   "cell_type": "code",
   "execution_count": 59,
   "metadata": {},
   "outputs": [],
   "source": [
    "#Recoding Age Code to Age Categories\n",
    "OUD_2014 = OUD_2014.replace({'AGE':{2:'12-14 years', 3:'15-17 years', 4:'18-20 years', 5:'21-24 years', 6:'25-29 years',\n",
    "                                  7:'30-34 years', 8:'35-39 years', 9:'40-44 years', 10:'45-49 years', 11:'50-54 years',\n",
    "                                  12:'55 and over'}})"
   ]
  },
  {
   "cell_type": "code",
   "execution_count": 60,
   "metadata": {},
   "outputs": [],
   "source": [
    "#Recoding Sex Code to Sex Categories\n",
    "OUD_2014 = OUD_2014.replace({'SEX':{1:'M', 2:'F', -9:'Missing'}})"
   ]
  },
  {
   "cell_type": "code",
   "execution_count": 61,
   "metadata": {},
   "outputs": [],
   "source": [
    "#Recoding Race Code to Race Categories\n",
    "OUD_2014 = OUD_2014.replace({'RACE':{1:'Alaskan Native', 2:'American Indian', 3:'Asian or Pacific Islander', 4:'Black or African American',\n",
    "                                     5:'White', 13:'Asian', 20:'Other Single Race', 21:'Two or More Races', 23:'Native Hawaiian or Other Pacific Islander',\n",
    "                                     -9:'Missing'}})"
   ]
  },
  {
   "cell_type": "markdown",
   "metadata": {},
   "source": [
    "#### 2015 TEDSA Data"
   ]
  },
  {
   "cell_type": "code",
   "execution_count": 62,
   "metadata": {},
   "outputs": [],
   "source": [
    "#Remove Extraneous Columns\n",
    "data_2015 = tedsa2015[['STFIPS', 'YEAR', 'SUB1', 'AGE', 'GENDER', 'RACE']]"
   ]
  },
  {
   "cell_type": "code",
   "execution_count": 63,
   "metadata": {},
   "outputs": [],
   "source": [
    "#Rename Columns\n",
    "data_2015 = data_2015.rename(columns = {'STFIPS' : 'STATE', 'GENDER' : 'SEX'})"
   ]
  },
  {
   "cell_type": "code",
   "execution_count": 64,
   "metadata": {},
   "outputs": [],
   "source": [
    "#Remove Rows w/o an Opioid as Primary Substance\n",
    "OUD_2015 = data_2015.loc[(data_2015['SUB1'] == 5) | (data_2015['SUB1'] == 6) | (data_2015['SUB1'] == 7)]\n",
    "OUD_2015.reset_index(inplace = True, drop = True)"
   ]
  },
  {
   "cell_type": "code",
   "execution_count": 65,
   "metadata": {},
   "outputs": [],
   "source": [
    "#Recoding Census State FIPS Code to State Abbreviation\n",
    "OUD_2015 = OUD_2015.replace({'STATE':{1:'AL', 2:'AK', 4:'AZ', 5:'AR', 6:'CA', 8:'CO', 9:'CT', 10:'DE', 11:'DC', 12:'FL',\n",
    "                                      13:'GA', 15:'HI', 16:'ID', 17:'IL', 18:'IN', 19:'IA', 20:'KS', 21:'KY', 22:'LA', 23:'ME',\n",
    "                                      24:'MD', 25:'MA', 26:'MI', 27:'MN', 28:'MS', 29:'MO', 30:'MT', 31:'NE', 32:'NV', 33:'NH',\n",
    "                                      34:'NJ', 35:'NM', 36:'NY', 37:'NC', 38:'ND', 39:'OH', 40:'OK', 41:'OR', 42:'PA', 44:'RI',\n",
    "                                      46:'SD', 47:'TN', 48:'TX', 49:'UT', 50:'VT', 51:'VA', 53:'WA', 54:'WV', 55:'WI', 56:'WY',\n",
    "                                      72:'PR'}})"
   ]
  },
  {
   "cell_type": "code",
   "execution_count": 66,
   "metadata": {},
   "outputs": [],
   "source": [
    "#Recoding Age Code to Age Categories\n",
    "OUD_2015 = OUD_2015.replace({'AGE':{2:'12-14 years', 3:'15-17 years', 4:'18-20 years', 5:'21-24 years', 6:'25-29 years',\n",
    "                                  7:'30-34 years', 8:'35-39 years', 9:'40-44 years', 10:'45-49 years', 11:'50-54 years',\n",
    "                                  12:'55 and over'}})"
   ]
  },
  {
   "cell_type": "code",
   "execution_count": 67,
   "metadata": {},
   "outputs": [],
   "source": [
    "#Recoding Sex Code to Sex Categories\n",
    "OUD_2015 = OUD_2015.replace({'SEX':{1:'M', 2:'F', -9:'Missing'}})"
   ]
  },
  {
   "cell_type": "code",
   "execution_count": 68,
   "metadata": {},
   "outputs": [],
   "source": [
    "#Recoding Race Code to Race Categories\n",
    "OUD_2015 = OUD_2015.replace({'RACE':{1:'Alaskan Native', 2:'American Indian', 3:'Asian or Pacific Islander', 4:'Black or African American',\n",
    "                                     5:'White', 13:'Asian', 20:'Other Single Race', 21:'Two or More Races', 23:'Native Hawaiian or Other Pacific Islander',\n",
    "                                     -9:'Missing'}})"
   ]
  },
  {
   "cell_type": "markdown",
   "metadata": {},
   "source": [
    "#### 2016 TEDSA Data"
   ]
  },
  {
   "cell_type": "code",
   "execution_count": 69,
   "metadata": {},
   "outputs": [],
   "source": [
    "#Remove Extraneous Columns\n",
    "data_2016 = tedsa2016[['STFIPS', 'YEAR', 'SUB1', 'AGE', 'SEX', 'RACE']]"
   ]
  },
  {
   "cell_type": "code",
   "execution_count": 70,
   "metadata": {},
   "outputs": [],
   "source": [
    "#Rename Columns\n",
    "data_2016 = data_2016.rename(columns = {'STFIPS' : 'STATE'})"
   ]
  },
  {
   "cell_type": "code",
   "execution_count": 71,
   "metadata": {},
   "outputs": [],
   "source": [
    "#Remove Rows w/o an Opioid as Primary Substance\n",
    "OUD_2016 = data_2016.loc[(data_2016['SUB1'] == 5) | (data_2016['SUB1'] == 6) | (data_2016['SUB1'] == 7)]\n",
    "OUD_2016.reset_index(inplace = True, drop = True)"
   ]
  },
  {
   "cell_type": "code",
   "execution_count": 72,
   "metadata": {},
   "outputs": [],
   "source": [
    "#Recoding Census State FIPS Code to State Abbreviation\n",
    "OUD_2016 = OUD_2016.replace({'STATE':{1:'AL', 2:'AK', 4:'AZ', 5:'AR', 6:'CA', 8:'CO', 9:'CT', 10:'DE', 11:'DC', 12:'FL',\n",
    "                                      13:'GA', 15:'HI', 16:'ID', 17:'IL', 18:'IN', 19:'IA', 20:'KS', 21:'KY', 22:'LA', 23:'ME',\n",
    "                                      24:'MD', 25:'MA', 26:'MI', 27:'MN', 28:'MS', 29:'MO', 30:'MT', 31:'NE', 32:'NV', 33:'NH',\n",
    "                                      34:'NJ', 35:'NM', 36:'NY', 37:'NC', 38:'ND', 39:'OH', 40:'OK', 41:'OR', 42:'PA', 44:'RI',\n",
    "                                      46:'SD', 47:'TN', 48:'TX', 49:'UT', 50:'VT', 51:'VA', 53:'WA', 54:'WV', 55:'WI', 56:'WY',\n",
    "                                      72:'PR', 45:'SC'}})"
   ]
  },
  {
   "cell_type": "code",
   "execution_count": 73,
   "metadata": {},
   "outputs": [],
   "source": [
    "#Recoding Age Code to Age Categories\n",
    "OUD_2016 = OUD_2016.replace({'AGE':{1:'12-14 years', 2:'15-17 years', 3:'18-20 years', 4:'21-24 years', 5:'25-29 years',\n",
    "                                  6:'30-34 years', 7:'35-39 years', 8:'40-44 years', 9:'45-49 years', 10:'50-54 years',\n",
    "                                  11:'55-64 years', 12:'65 and over'}})"
   ]
  },
  {
   "cell_type": "code",
   "execution_count": 74,
   "metadata": {},
   "outputs": [],
   "source": [
    "#Recoding Sex Code to Sex Categories\n",
    "OUD_2016 = OUD_2016.replace({'SEX':{1:'M', 2:'F', -9:'Missing'}})"
   ]
  },
  {
   "cell_type": "code",
   "execution_count": 75,
   "metadata": {},
   "outputs": [],
   "source": [
    "#Recoding Race Code to Race Categories\n",
    "OUD_2016 = OUD_2016.replace({'RACE':{1:'Alaskan Native', 2:'American Indian', 3:'Asian or Pacific Islander', 4:'Black or African American',\n",
    "                                     5:'White', 6:'Asian', 7:'Other Single Race', 8:'Two or More Races', 9:'Native Hawaiian or Other Pacific Islander',\n",
    "                                     -9:'Missing'}})"
   ]
  },
  {
   "cell_type": "markdown",
   "metadata": {},
   "source": [
    "#### 2017 TEDSA Data"
   ]
  },
  {
   "cell_type": "code",
   "execution_count": 76,
   "metadata": {},
   "outputs": [],
   "source": [
    "#Remove Extraneous Columns\n",
    "data_2017 = tedsa2017[['STFIPS', 'ADMYR', 'SUB1', 'AGE', 'GENDER', 'RACE']]"
   ]
  },
  {
   "cell_type": "code",
   "execution_count": 77,
   "metadata": {},
   "outputs": [],
   "source": [
    "#Rename Columns\n",
    "data_2017 = data_2017.rename(columns = {'ADMYR' : 'YEAR','STFIPS' : 'STATE','GENDER' : 'SEX'})"
   ]
  },
  {
   "cell_type": "code",
   "execution_count": 78,
   "metadata": {},
   "outputs": [],
   "source": [
    "#Remove Rows w/o an Opioid as Primary Substance\n",
    "OUD_2017 = data_2017.loc[(data_2017['SUB1'] == 5) | (data_2017['SUB1'] == 6) | (data_2017['SUB1'] == 7)]\n",
    "OUD_2017.reset_index(inplace = True, drop = True)"
   ]
  },
  {
   "cell_type": "code",
   "execution_count": 79,
   "metadata": {},
   "outputs": [],
   "source": [
    "#Recoding Census State FIPS Code to State Abbreviation\n",
    "OUD_2017 = OUD_2017.replace({'STATE':{1:'AL', 2:'AK', 4:'AZ', 5:'AR', 6:'CA', 8:'CO', 9:'CT', 10:'DE', 11:'DC', 12:'FL',\n",
    "                                      13:'GA', 15:'HI', 16:'ID', 17:'IL', 18:'IN', 19:'IA', 20:'KS', 21:'KY', 22:'LA', 23:'ME',\n",
    "                                      24:'MD', 25:'MA', 26:'MI', 27:'MN', 28:'MS', 29:'MO', 30:'MT', 31:'NE', 32:'NV', 33:'NH',\n",
    "                                      34:'NJ', 35:'NM', 36:'NY', 37:'NC', 38:'ND', 39:'OH', 40:'OK', 41:'OR', 42:'PA', 44:'RI',\n",
    "                                      46:'SD', 47:'TN', 48:'TX', 49:'UT', 50:'VT', 51:'VA', 53:'WA', 54:'WV', 55:'WI', 56:'WY',\n",
    "                                      72:'PR', 45:'SC'}})"
   ]
  },
  {
   "cell_type": "code",
   "execution_count": 80,
   "metadata": {},
   "outputs": [],
   "source": [
    "#Recoding Age Code to Age Categories\n",
    "OUD_2017 = OUD_2017.replace({'AGE':{1:'12-14 years', 2:'15-17 years', 3:'18-20 years', 4:'21-24 years', 5:'25-29 years',\n",
    "                                  6:'30-34 years', 7:'35-39 years', 8:'40-44 years', 9:'45-49 years', 10:'50-54 years',\n",
    "                                  11:'55-64 years', 12:'65 and over'}})"
   ]
  },
  {
   "cell_type": "code",
   "execution_count": 81,
   "metadata": {},
   "outputs": [],
   "source": [
    "#Recoding Sex Code to Sex Categories\n",
    "OUD_2017 = OUD_2017.replace({'SEX':{1:'M', 2:'F', -9:'Missing'}})"
   ]
  },
  {
   "cell_type": "code",
   "execution_count": 82,
   "metadata": {},
   "outputs": [],
   "source": [
    "#Recoding Race Code to Race Categories\n",
    "OUD_2017 = OUD_2017.replace({'RACE':{1:'Alaskan Native', 2:'American Indian', 3:'Asian or Pacific Islander', 4:'Black or African American',\n",
    "                                     5:'White', 6:'Asian', 7:'Other Single Race', 8:'Two or More Races', 9:'Native Hawaiian or Other Pacific Islander',\n",
    "                                     -9:'Missing'}})"
   ]
  },
  {
   "cell_type": "markdown",
   "metadata": {},
   "source": [
    "#### 2018 TEDSA Data"
   ]
  },
  {
   "cell_type": "code",
   "execution_count": 83,
   "metadata": {},
   "outputs": [],
   "source": [
    "#Remove Extraneous Columns\n",
    "data_2018 = tedsa2018[['STFIPS', 'ADMYR', 'SUB1', 'AGE', 'GENDER', 'RACE']]"
   ]
  },
  {
   "cell_type": "code",
   "execution_count": 84,
   "metadata": {},
   "outputs": [],
   "source": [
    "#Rename Columns\n",
    "data_2018 = data_2018.rename(columns = {'ADMYR' : 'YEAR','STFIPS' : 'STATE','GENDER' : 'SEX'})"
   ]
  },
  {
   "cell_type": "code",
   "execution_count": 85,
   "metadata": {},
   "outputs": [],
   "source": [
    "#Remove Rows w/o an Opioid as Primary Substance\n",
    "OUD_2018 = data_2018.loc[(data_2018['SUB1'] == 5) | (data_2018['SUB1'] == 6) | (data_2018['SUB1'] == 7)]\n",
    "OUD_2018.reset_index(inplace = True, drop = True)"
   ]
  },
  {
   "cell_type": "code",
   "execution_count": 86,
   "metadata": {},
   "outputs": [],
   "source": [
    "#Recoding Census State FIPS Code to State Abbreviation\n",
    "OUD_2018 = OUD_2018.replace({'STATE':{1:'AL', 2:'AK', 4:'AZ', 5:'AR', 6:'CA', 8:'CO', 9:'CT', 10:'DE', 11:'DC', 12:'FL',\n",
    "                                      13:'GA', 15:'HI', 16:'ID', 17:'IL', 18:'IN', 19:'IA', 20:'KS', 21:'KY', 22:'LA', 23:'ME',\n",
    "                                      24:'MD', 25:'MA', 26:'MI', 27:'MN', 28:'MS', 29:'MO', 30:'MT', 31:'NE', 32:'NV', 33:'NH',\n",
    "                                      34:'NJ', 35:'NM', 36:'NY', 37:'NC', 38:'ND', 39:'OH', 40:'OK', 41:'OR', 42:'PA', 44:'RI',\n",
    "                                      46:'SD', 47:'TN', 48:'TX', 49:'UT', 50:'VT', 51:'VA', 53:'WA', 54:'WV', 55:'WI', 56:'WY',\n",
    "                                      72:'PR', 45:'SC'}})"
   ]
  },
  {
   "cell_type": "code",
   "execution_count": 87,
   "metadata": {},
   "outputs": [],
   "source": [
    "#Recoding Age Code to Age Categories\n",
    "OUD_2018 = OUD_2018.replace({'AGE':{1:'12-14 years', 2:'15-17 years', 3:'18-20 years', 4:'21-24 years', 5:'25-29 years',\n",
    "                                  6:'30-34 years', 7:'35-39 years', 8:'40-44 years', 9:'45-49 years', 10:'50-54 years',\n",
    "                                  11:'55-64 years', 12:'65 and over'}})"
   ]
  },
  {
   "cell_type": "code",
   "execution_count": 88,
   "metadata": {},
   "outputs": [],
   "source": [
    "#Recoding Sex Code to Sex Categories\n",
    "OUD_2018 = OUD_2018.replace({'SEX':{1:'M', 2:'F', -9:'Missing'}})"
   ]
  },
  {
   "cell_type": "code",
   "execution_count": 89,
   "metadata": {},
   "outputs": [],
   "source": [
    "#Recoding Race Code to Race Categories\n",
    "OUD_2018 = OUD_2018.replace({'RACE':{1:'Alaskan Native', 2:'American Indian', 3:'Asian or Pacific Islander', 4:'Black or African American',\n",
    "                                     5:'White', 6:'Asian', 7:'Other Single Race', 8:'Two or More Races', 9:'Native Hawaiian or Other Pacific Islander',\n",
    "                                     -9:'Missing'}})"
   ]
  },
  {
   "cell_type": "markdown",
   "metadata": {},
   "source": [
    "#### Concatenated TEDSA 2014-2018 Data"
   ]
  },
  {
   "cell_type": "code",
   "execution_count": 90,
   "metadata": {},
   "outputs": [],
   "source": [
    "#Concatenating 2014-2018 Dataframes\n",
    "frames = [OUD_2014, OUD_2015, OUD_2016, OUD_2017, OUD_2018,]\n",
    "\n",
    "concat = pd.concat(frames)"
   ]
  },
  {
   "cell_type": "code",
   "execution_count": 91,
   "metadata": {},
   "outputs": [],
   "source": [
    "#Drop SUB1 Column\n",
    "OUD_5year = concat[['STATE', 'YEAR', 'AGE', 'SEX', 'RACE']]"
   ]
  },
  {
   "cell_type": "code",
   "execution_count": 92,
   "metadata": {},
   "outputs": [
    {
     "name": "stderr",
     "output_type": "stream",
     "text": [
      "C:\\Users\\T\\anaconda3\\lib\\site-packages\\ipykernel_launcher.py:1: SettingWithCopyWarning: \n",
      "A value is trying to be set on a copy of a slice from a DataFrame.\n",
      "Try using .loc[row_indexer,col_indexer] = value instead\n",
      "\n",
      "See the caveats in the documentation: https://pandas.pydata.org/pandas-docs/stable/user_guide/indexing.html#returning-a-view-versus-a-copy\n",
      "  \"\"\"Entry point for launching an IPython kernel.\n"
     ]
    }
   ],
   "source": [
    "OUD_5year['YEAR'] = OUD_5year.YEAR.astype('str')"
   ]
  },
  {
   "cell_type": "code",
   "execution_count": 93,
   "metadata": {},
   "outputs": [],
   "source": [
    "#Reset Index\n",
    "OUD_5year.reset_index(inplace = True, drop = True)"
   ]
  },
  {
   "cell_type": "markdown",
   "metadata": {},
   "source": [
    "## Export to Database"
   ]
  },
  {
   "cell_type": "code",
   "execution_count": 45,
   "metadata": {},
   "outputs": [],
   "source": [
    "#Connect to Database\n",
    "rds_connection_string = \"postgres:Nvrknwsbst7@localhost:5432/Project_2\"\n",
    "engine = create_engine(f'postgresql://{rds_connection_string}')"
   ]
  },
  {
   "cell_type": "code",
   "execution_count": 46,
   "metadata": {},
   "outputs": [],
   "source": [
    "#Create Connection Variable \n",
    "conn = engine.connect()"
   ]
  },
  {
   "cell_type": "code",
   "execution_count": 94,
   "metadata": {},
   "outputs": [],
   "source": [
    "#Export Dataframes to Database\n",
    "OUD_5year.to_sql(name='OUD_data', con=engine, if_exists='append', index=True)"
   ]
  },
  {
   "cell_type": "code",
   "execution_count": 95,
   "metadata": {},
   "outputs": [
    {
     "data": {
      "text/plain": [
       "['OUD_data']"
      ]
     },
     "execution_count": 95,
     "metadata": {},
     "output_type": "execute_result"
    }
   ],
   "source": [
    "#Check Database Contents\n",
    "engine.table_names()"
   ]
  },
  {
   "cell_type": "code",
   "execution_count": null,
   "metadata": {},
   "outputs": [],
   "source": []
  }
 ],
 "metadata": {
  "kernelspec": {
   "display_name": "Python 3",
   "language": "python",
   "name": "python3"
  },
  "language_info": {
   "codemirror_mode": {
    "name": "ipython",
    "version": 3
   },
   "file_extension": ".py",
   "mimetype": "text/x-python",
   "name": "python",
   "nbconvert_exporter": "python",
   "pygments_lexer": "ipython3",
   "version": "3.7.9"
  }
 },
 "nbformat": 4,
 "nbformat_minor": 4
}
